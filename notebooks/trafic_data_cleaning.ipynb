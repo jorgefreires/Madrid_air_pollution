{
 "cells": [
  {
   "cell_type": "code",
   "execution_count": 1,
   "metadata": {},
   "outputs": [],
   "source": [
    "# Librerias, archivos y configuración\n",
    "\n",
    "import warnings\n",
    "import os\n",
    "import pandas as pd\n",
    "import funciones as f\n",
    "\n",
    "warnings.filterwarnings('ignore')"
   ]
  },
  {
   "cell_type": "code",
   "execution_count": 2,
   "metadata": {},
   "outputs": [
    {
     "name": "stderr",
     "output_type": "stream",
     "text": [
      "100%|██████████| 96/96 [15:26<00:00,  9.65s/it]\n"
     ]
    }
   ],
   "source": [
    "# Se llama a la función que importa y realiza la limpieza para cada data frame\n",
    "\n",
    "# Primero se crea una lista con los nombres de los archivos para poder llamar a la función\n",
    "\n",
    "archivos = os.listdir('../../../../../../Documents/Databases/trafic_mad')\n",
    "archivos.sort(reverse=True)\n",
    "\n",
    "lista_meses = [e for e in archivos]\n",
    "\n",
    "# Se llama a la función, la cual devuelve una lista de data frames. No se coge el último archivo dado que este es '.DS_Store' 17.03\n",
    "\n",
    "dfs = f.limpieza(lista_meses[:-1])"
   ]
  },
  {
   "cell_type": "code",
   "execution_count": 3,
   "metadata": {},
   "outputs": [],
   "source": [
    "# Se concatenan todos los data frames en uno solo\n",
    "\n",
    "df = pd.concat(dfs)"
   ]
  },
  {
   "cell_type": "code",
   "execution_count": 22,
   "metadata": {},
   "outputs": [
    {
     "data": {
      "text/html": [
       "<div>\n",
       "<style scoped>\n",
       "    .dataframe tbody tr th:only-of-type {\n",
       "        vertical-align: middle;\n",
       "    }\n",
       "\n",
       "    .dataframe tbody tr th {\n",
       "        vertical-align: top;\n",
       "    }\n",
       "\n",
       "    .dataframe thead th {\n",
       "        text-align: right;\n",
       "    }\n",
       "</style>\n",
       "<table border=\"1\" class=\"dataframe\">\n",
       "  <thead>\n",
       "    <tr style=\"text-align: right;\">\n",
       "      <th></th>\n",
       "      <th>fecha</th>\n",
       "      <th>intensidad</th>\n",
       "    </tr>\n",
       "  </thead>\n",
       "  <tbody>\n",
       "    <tr>\n",
       "      <th>0</th>\n",
       "      <td>2022-12-01 00:00:00</td>\n",
       "      <td>222.189757</td>\n",
       "    </tr>\n",
       "    <tr>\n",
       "      <th>1</th>\n",
       "      <td>2022-12-01 00:15:00</td>\n",
       "      <td>205.673980</td>\n",
       "    </tr>\n",
       "    <tr>\n",
       "      <th>2</th>\n",
       "      <td>2022-12-01 00:30:00</td>\n",
       "      <td>152.004489</td>\n",
       "    </tr>\n",
       "    <tr>\n",
       "      <th>3</th>\n",
       "      <td>2022-12-01 00:45:00</td>\n",
       "      <td>130.600806</td>\n",
       "    </tr>\n",
       "    <tr>\n",
       "      <th>4</th>\n",
       "      <td>2022-12-01 01:00:00</td>\n",
       "      <td>116.415027</td>\n",
       "    </tr>\n",
       "  </tbody>\n",
       "</table>\n",
       "</div>"
      ],
      "text/plain": [
       "                fecha  intensidad\n",
       "0 2022-12-01 00:00:00  222.189757\n",
       "1 2022-12-01 00:15:00  205.673980\n",
       "2 2022-12-01 00:30:00  152.004489\n",
       "3 2022-12-01 00:45:00  130.600806\n",
       "4 2022-12-01 01:00:00  116.415027"
      ]
     },
     "execution_count": 22,
     "metadata": {},
     "output_type": "execute_result"
    }
   ],
   "source": [
    "df.head()"
   ]
  },
  {
   "cell_type": "code",
   "execution_count": 23,
   "metadata": {},
   "outputs": [],
   "source": [
    "# Se rellenan los valores nulos con la media de la columna para esa hora\n",
    "\n",
    "df['fecha'] = pd.to_datetime(df['fecha'])\n",
    "\n",
    "df['intensidad'] = df.groupby(df['fecha'].dt.hour)['intensidad'].transform(lambda x: x.fillna(x.mean()))"
   ]
  },
  {
   "cell_type": "code",
   "execution_count": 26,
   "metadata": {},
   "outputs": [],
   "source": [
    "# Se eliminan todas las filas en los minutos no sean 00\n",
    "\n",
    "df = df[df['fecha'].dt.minute == 0]"
   ]
  },
  {
   "cell_type": "code",
   "execution_count": 27,
   "metadata": {},
   "outputs": [
    {
     "data": {
      "text/html": [
       "<div>\n",
       "<style scoped>\n",
       "    .dataframe tbody tr th:only-of-type {\n",
       "        vertical-align: middle;\n",
       "    }\n",
       "\n",
       "    .dataframe tbody tr th {\n",
       "        vertical-align: top;\n",
       "    }\n",
       "\n",
       "    .dataframe thead th {\n",
       "        text-align: right;\n",
       "    }\n",
       "</style>\n",
       "<table border=\"1\" class=\"dataframe\">\n",
       "  <thead>\n",
       "    <tr style=\"text-align: right;\">\n",
       "      <th></th>\n",
       "      <th>fecha</th>\n",
       "      <th>intensidad</th>\n",
       "    </tr>\n",
       "  </thead>\n",
       "  <tbody>\n",
       "    <tr>\n",
       "      <th>0</th>\n",
       "      <td>2022-12-01 00:00:00</td>\n",
       "      <td>222.189757</td>\n",
       "    </tr>\n",
       "    <tr>\n",
       "      <th>4</th>\n",
       "      <td>2022-12-01 01:00:00</td>\n",
       "      <td>116.415027</td>\n",
       "    </tr>\n",
       "    <tr>\n",
       "      <th>8</th>\n",
       "      <td>2022-12-01 02:00:00</td>\n",
       "      <td>73.520165</td>\n",
       "    </tr>\n",
       "    <tr>\n",
       "      <th>12</th>\n",
       "      <td>2022-12-01 03:00:00</td>\n",
       "      <td>60.116886</td>\n",
       "    </tr>\n",
       "    <tr>\n",
       "      <th>16</th>\n",
       "      <td>2022-12-01 04:00:00</td>\n",
       "      <td>53.025006</td>\n",
       "    </tr>\n",
       "  </tbody>\n",
       "</table>\n",
       "</div>"
      ],
      "text/plain": [
       "                 fecha  intensidad\n",
       "0  2022-12-01 00:00:00  222.189757\n",
       "4  2022-12-01 01:00:00  116.415027\n",
       "8  2022-12-01 02:00:00   73.520165\n",
       "12 2022-12-01 03:00:00   60.116886\n",
       "16 2022-12-01 04:00:00   53.025006"
      ]
     },
     "execution_count": 27,
     "metadata": {},
     "output_type": "execute_result"
    }
   ],
   "source": [
    "df.head()"
   ]
  },
  {
   "cell_type": "code",
   "execution_count": 28,
   "metadata": {},
   "outputs": [],
   "source": [
    "# Se guarda el df en un csv\n",
    "\n",
    "df.to_csv('../final_data/trafic_data.csv')"
   ]
  }
 ],
 "metadata": {
  "kernelspec": {
   "display_name": "mollution",
   "language": "python",
   "name": "python3"
  },
  "language_info": {
   "codemirror_mode": {
    "name": "ipython",
    "version": 3
   },
   "file_extension": ".py",
   "mimetype": "text/x-python",
   "name": "python",
   "nbconvert_exporter": "python",
   "pygments_lexer": "ipython3",
   "version": "3.10.9"
  },
  "orig_nbformat": 4
 },
 "nbformat": 4,
 "nbformat_minor": 2
}
