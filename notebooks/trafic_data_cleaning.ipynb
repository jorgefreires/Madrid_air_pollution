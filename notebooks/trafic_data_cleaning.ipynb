{
 "cells": [
  {
   "cell_type": "code",
   "execution_count": 1,
   "metadata": {},
   "outputs": [],
   "source": [
    "# Librerias, archivos y configuración\n",
    "\n",
    "import warnings\n",
    "import os\n",
    "import polars as pl\n",
    "import pyarrow\n",
    "import pandas as pd\n",
    "from tqdm import tqdm\n",
    "\n",
    "warnings.filterwarnings('ignore')"
   ]
  },
  {
   "cell_type": "code",
   "execution_count": 2,
   "metadata": {},
   "outputs": [],
   "source": [
    "# Primero se unen todos los archivos de los distintos meses en uno solo\n",
    "\n",
    "# Se hace una lista con los archivos de los distintos meses para poder llamar a la función\n",
    "\n",
    "archivos = os.listdir('../../../../../../../../Volumes/JFreire/Databases/trafic_mad')\n",
    "archivos.sort(reverse=True)\n",
    "\n",
    "lista_meses = [e for e in archivos]"
   ]
  },
  {
   "cell_type": "code",
   "execution_count": null,
   "metadata": {},
   "outputs": [],
   "source": [
    "# Se importa y se realiza la limpieza para cada data frame\n",
    "\n",
    "dfs = []\n",
    "\n",
    "for e in tqdm(lista_meses):\n",
    "\n",
    "    # Se importa el archivo\n",
    "\n",
    "    df = pl.read_csv(f'../../../../../../../../Volumes/JFreire/Databases/trafic_mad/{e}', sep=';', infer_schema_length=0)\n",
    "\n",
    "    # Realmente solo me interesan las columnas id, fecha, y intensidad. Se borra el resto\n",
    "\n",
    "    df = df.drop(['id', 'tipo_elem', 'ocupacion', 'carga', 'vmed', 'error', 'periodo_integracion'])\n",
    "\n",
    "    # Se pasa a pandas para poder agrupar el df por su fecha y hacer la media de la intesidad\n",
    "    # Lo que se quiere es tener la media de intensidad del tráifco en toda la ciudad\n",
    "\n",
    "    df = df.to_pandas()\n",
    "\n",
    "    df['intensidad'] = df.intensidad.astype('int')\n",
    "\n",
    "    df = df.groupby(['fecha']).mean()\n",
    "\n",
    "    df.reset_index(inplace=True)\n",
    "\n",
    "    # Se vuelve a pasar a polars\n",
    "\n",
    "    df = pl.from_pandas(df)\n",
    "\n",
    "    # Se añade el df a la lista para su posterior concatenación\n",
    "\n",
    "    dfs.append(df)"
   ]
  },
  {
   "cell_type": "code",
   "execution_count": null,
   "metadata": {},
   "outputs": [],
   "source": [
    "# Se concatenan todos los data frames en uno solo\n",
    "\n",
    "df = pl.concat(dfs_2)"
   ]
  },
  {
   "cell_type": "code",
   "execution_count": null,
   "metadata": {},
   "outputs": [],
   "source": [
    "# Se guarda el df en un csv\n",
    "\n",
    "df.write_csv(file='../final_data/trafic_data.csv')"
   ]
  }
 ],
 "metadata": {
  "kernelspec": {
   "display_name": "mollution",
   "language": "python",
   "name": "python3"
  },
  "language_info": {
   "codemirror_mode": {
    "name": "ipython",
    "version": 3
   },
   "file_extension": ".py",
   "mimetype": "text/x-python",
   "name": "python",
   "nbconvert_exporter": "python",
   "pygments_lexer": "ipython3",
   "version": "3.10.9"
  },
  "orig_nbformat": 4
 },
 "nbformat": 4,
 "nbformat_minor": 2
}
